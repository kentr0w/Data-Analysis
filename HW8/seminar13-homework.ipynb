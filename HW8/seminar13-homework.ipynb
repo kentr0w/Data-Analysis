{
 "cells": [
  {
   "cell_type": "markdown",
   "metadata": {},
   "source": [
    "<center><img src=\"img/logo_hse_black.jpg\"></center>\n",
    "\n",
    "<h1><center>Data Analysis</center></h1>\n",
    "<h2><center>Homewrok: Neural Networks 2</center></h2>"
   ]
  },
  {
   "cell_type": "code",
   "execution_count": 2,
   "metadata": {},
   "outputs": [],
   "source": [
    "import numpy as np\n",
    "import pandas as pd\n",
    "import matplotlib.pyplot as plt\n",
    "\n",
    "RND_SEED = 7\n",
    "np.random.seed(RND_SEED)\n",
    "\n",
    "%matplotlib inline"
   ]
  },
  {
   "cell_type": "markdown",
   "metadata": {},
   "source": [
    "# Intro\n",
    "\n",
    "For this homework you are propossed to \n",
    "1. implement autoencoder model based on Keras library using MNIST sample.\n",
    "2. set up your own dataset for transfer learning and apply pretrained model"
   ]
  },
  {
   "cell_type": "markdown",
   "metadata": {},
   "source": [
    "# Autoencoders"
   ]
  },
  {
   "cell_type": "markdown",
   "metadata": {},
   "source": [
    "\n",
    "Idea of autoencoders is illustrated in the following figure:\n",
    "<center><img src='img/autoencoder_schema.jpg'></center>\n",
    "\n",
    "Autoencoder consists of two parts: encoder and decoder.\n",
    "Encoder takes an image and encodes it into another image or vector with smaller size. In other words, it compresses the image. On the other hand, decoder takes the compressed image and reconstructs the original image. If the autoencoder is designed and fitted properly, the original and reconstructed images will be similar. "
   ]
  },
  {
   "cell_type": "markdown",
   "metadata": {},
   "source": [
    "# Fully-connected Autoencoder"
   ]
  },
  {
   "cell_type": "markdown",
   "metadata": {},
   "source": [
    "Consider an autoencoder which consists only fully-connected layers (no convolutions, no pooling et al.) as it is show in figure:\n",
    "\n",
    "<center><img src='img/ae.png'></center>\n",
    "\n",
    "This autoencoder takes an image as a vector and encodes it into a vector of smaller size. Its output is a reconstructed image represented as a vector of the same size as the input. "
   ]
  },
  {
   "cell_type": "markdown",
   "metadata": {},
   "source": [
    "## Task 1 (1 point)\n",
    "\n",
    "Download and read MNIST sample. Plot several images. Do all preprocessing steps needed for the autoencoder.\n",
    "\n",
    "Hint: use `from tensorflow.keras.datasets import mnist`"
   ]
  },
  {
   "cell_type": "code",
   "execution_count": 2,
   "metadata": {},
   "outputs": [],
   "source": [
    "# Your code is here"
   ]
  },
  {
   "cell_type": "markdown",
   "metadata": {},
   "source": [
    "## Task 2 (3 points)\n",
    "\n",
    "Implement your autoencoder using Keras library with the following structure:\n",
    "- **Encoder** has one fully-connected layer, that compresses an input image into a vector of size 49.\n",
    "- **Decoder** has one fully-connected layer, that reconstructs the original image. \n",
    "\n",
    "Fit your autoencoder during 5 epochs. Use **mse** error function.\n",
    "\n",
    "Hint: see Keras examples from your seminars."
   ]
  },
  {
   "cell_type": "code",
   "execution_count": 3,
   "metadata": {},
   "outputs": [],
   "source": [
    "# Your code is here"
   ]
  },
  {
   "cell_type": "markdown",
   "metadata": {},
   "source": [
    "## Task 3 (1 point)\n",
    "\n",
    "Test your autoencoder. Calculate MSE error between inputs and outputs of the autoencoder. Plot several input and output images. Are they similar? "
   ]
  },
  {
   "cell_type": "code",
   "execution_count": 4,
   "metadata": {},
   "outputs": [],
   "source": [
    "# Your code is here"
   ]
  },
  {
   "cell_type": "markdown",
   "metadata": {},
   "source": [
    "---"
   ]
  },
  {
   "cell_type": "markdown",
   "metadata": {},
   "source": [
    "# Transfer Learning"
   ]
  },
  {
   "cell_type": "markdown",
   "metadata": {},
   "source": [
    "In this task you should construct your own dataset to perform classification or regression task.\n",
    "For instance you can\n",
    "* Predict age (age group) given face image\n",
    "* Classify different types of vehicles on the image\n",
    "* Classify smartphone models\n",
    "* [Your Idea Here]"
   ]
  },
  {
   "cell_type": "raw",
   "metadata": {},
   "source": [
    "Write down your task: "
   ]
  },
  {
   "cell_type": "markdown",
   "metadata": {},
   "source": [
    "## Task 4 (3 points)\n",
    "\n",
    "Construct your dataset\n",
    "* It should be you handmade raw dataset (not loaded completely in the web by someone else)\n",
    "* It should contain at least 500 images (the more - the better)\n",
    "* Once collected it should be downloadable via `wget` command in terminal (if you have windows you can check it in Google Collab) - for instance use dropbox or Yandex.Disk to get the link\n",
    "\n",
    "Helpful links: [1](https://www.pyimagesearch.com/2018/04/09/how-to-quickly-build-a-deep-learning-image-dataset/), [2](https://www.pyimagesearch.com/2017/12/04/how-to-create-a-deep-learning-dataset-using-google-images/)"
   ]
  },
  {
   "cell_type": "code",
   "execution_count": null,
   "metadata": {},
   "outputs": [],
   "source": [
    "!wget your_dataset_link"
   ]
  },
  {
   "cell_type": "markdown",
   "metadata": {},
   "source": [
    "## Task 5 (1 point)\n",
    "\n",
    "Prepare your dataset to be put through your model\n",
    "\n",
    "* Resize and normalize images\n",
    "* Split data in train and validation sets\n",
    "* Prepare data generator with image augmentation for training set"
   ]
  },
  {
   "cell_type": "code",
   "execution_count": null,
   "metadata": {},
   "outputs": [],
   "source": [
    "# Your code is here"
   ]
  },
  {
   "cell_type": "markdown",
   "metadata": {},
   "source": [
    "## Task 5 (1 point)\n",
    "\n",
    "* Use any pretrained model and replace dence layers\n",
    "* Freeze (make untrainable) all weight except for dence layers weights and train your model\n",
    "* Report train and validation losses\n",
    "* Unfreeze other weights, report train validation losses"
   ]
  },
  {
   "cell_type": "code",
   "execution_count": null,
   "metadata": {},
   "outputs": [],
   "source": [
    "# Your code is here"
   ]
  }
 ],
 "metadata": {
  "anaconda-cloud": {},
  "kernelspec": {
   "display_name": "Python 3",
   "language": "python",
   "name": "python3"
  },
  "language_info": {
   "codemirror_mode": {
    "name": "ipython",
    "version": 3
   },
   "file_extension": ".py",
   "mimetype": "text/x-python",
   "name": "python",
   "nbconvert_exporter": "python",
   "pygments_lexer": "ipython3",
   "version": "3.7.3"
  },
  "nav_menu": {},
  "toc": {
   "base_numbering": 1,
   "nav_menu": {
    "height": "254px",
    "width": "253px"
   },
   "number_sections": false,
   "sideBar": true,
   "skip_h1_title": false,
   "title_cell": "Table of Contents",
   "title_sidebar": "Contents",
   "toc_cell": false,
   "toc_position": {},
   "toc_section_display": "block",
   "toc_window_display": false
  }
 },
 "nbformat": 4,
 "nbformat_minor": 1
}
