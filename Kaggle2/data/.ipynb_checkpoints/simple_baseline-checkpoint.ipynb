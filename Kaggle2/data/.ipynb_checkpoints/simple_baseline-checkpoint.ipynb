{
 "cells": [
  {
   "cell_type": "code",
   "execution_count": 1,
   "metadata": {},
   "outputs": [],
   "source": [
    "import pandas as pd\n",
    "import numpy as np\n",
    "import matplotlib.pyplot as plt"
   ]
  },
  {
   "cell_type": "code",
   "execution_count": 2,
   "metadata": {},
   "outputs": [],
   "source": [
    "df_train = pd.read_csv('train_data.tsv.gz', sep='\\t')\n",
    "df_test =  pd.read_csv('test_data.tsv.gz', sep='\\t')"
   ]
  },
  {
   "cell_type": "code",
   "execution_count": 3,
   "metadata": {},
   "outputs": [
    {
     "data": {
      "text/html": [
       "<div>\n",
       "<style scoped>\n",
       "    .dataframe tbody tr th:only-of-type {\n",
       "        vertical-align: middle;\n",
       "    }\n",
       "\n",
       "    .dataframe tbody tr th {\n",
       "        vertical-align: top;\n",
       "    }\n",
       "\n",
       "    .dataframe thead th {\n",
       "        text-align: right;\n",
       "    }\n",
       "</style>\n",
       "<table border=\"1\" class=\"dataframe\">\n",
       "  <thead>\n",
       "    <tr style=\"text-align: right;\">\n",
       "      <th></th>\n",
       "      <th>id</th>\n",
       "      <th>city</th>\n",
       "      <th>price</th>\n",
       "      <th>brand</th>\n",
       "      <th>model</th>\n",
       "      <th>drive_type</th>\n",
       "      <th>engine_summary</th>\n",
       "      <th>owner_type</th>\n",
       "      <th>generation</th>\n",
       "      <th>year</th>\n",
       "      <th>color</th>\n",
       "      <th>body</th>\n",
       "      <th>gear_type</th>\n",
       "      <th>wheel_type</th>\n",
       "      <th>state</th>\n",
       "      <th>is_new</th>\n",
       "      <th>doors_count</th>\n",
       "      <th>mileage</th>\n",
       "      <th>owners_by_pts</th>\n",
       "    </tr>\n",
       "  </thead>\n",
       "  <tbody>\n",
       "    <tr>\n",
       "      <th>0</th>\n",
       "      <td>9cbd65bfd61bc7405d6866a5</td>\n",
       "      <td>Советск</td>\n",
       "      <td>40000.0</td>\n",
       "      <td>ВАЗ (Lada)</td>\n",
       "      <td>2105</td>\n",
       "      <td>Задний</td>\n",
       "      <td>1.5 л / 71 л.с. / Бензиновый</td>\n",
       "      <td>Частники</td>\n",
       "      <td>1 поколение</td>\n",
       "      <td>1999</td>\n",
       "      <td>Фиолетовый</td>\n",
       "      <td>Седан</td>\n",
       "      <td>Механика</td>\n",
       "      <td>Левый</td>\n",
       "      <td>Хорошее</td>\n",
       "      <td>Нет</td>\n",
       "      <td>5.0</td>\n",
       "      <td>178000.0</td>\n",
       "      <td>3.0</td>\n",
       "    </tr>\n",
       "    <tr>\n",
       "      <th>1</th>\n",
       "      <td>5d6fa4d552284029123966a5</td>\n",
       "      <td>Москва</td>\n",
       "      <td>105000.0</td>\n",
       "      <td>ВАЗ (Lada)</td>\n",
       "      <td>2114</td>\n",
       "      <td>Передний</td>\n",
       "      <td>1.5 л / 77 л.с. / Бензиновый</td>\n",
       "      <td>Частники</td>\n",
       "      <td>1 поколение</td>\n",
       "      <td>2006</td>\n",
       "      <td>Голубой</td>\n",
       "      <td>Хетчбэк</td>\n",
       "      <td>Механика</td>\n",
       "      <td>Левый</td>\n",
       "      <td>Хорошее</td>\n",
       "      <td>Нет</td>\n",
       "      <td>5.0</td>\n",
       "      <td>200000.0</td>\n",
       "      <td>2.0</td>\n",
       "    </tr>\n",
       "    <tr>\n",
       "      <th>2</th>\n",
       "      <td>52fd95e853654e3c4d7966a5</td>\n",
       "      <td>Александров</td>\n",
       "      <td>650000.0</td>\n",
       "      <td>Cadillac</td>\n",
       "      <td>SRX</td>\n",
       "      <td>Полный</td>\n",
       "      <td>3.6 л / 258 л.с. / Бензиновый</td>\n",
       "      <td>Частники</td>\n",
       "      <td>1 поколение</td>\n",
       "      <td>2008</td>\n",
       "      <td>Синий</td>\n",
       "      <td>Кроссовер</td>\n",
       "      <td>Автомат</td>\n",
       "      <td>Левый</td>\n",
       "      <td>Не битый</td>\n",
       "      <td>Нет</td>\n",
       "      <td>5.0</td>\n",
       "      <td>185000.0</td>\n",
       "      <td>3.0</td>\n",
       "    </tr>\n",
       "    <tr>\n",
       "      <th>3</th>\n",
       "      <td>beb7c749571bc740820038a5</td>\n",
       "      <td>Новокуйбышевск</td>\n",
       "      <td>400000.0</td>\n",
       "      <td>Chevrolet</td>\n",
       "      <td>Lacetti</td>\n",
       "      <td>Передний</td>\n",
       "      <td>1.6 л / 109 л.с. / Бензиновый</td>\n",
       "      <td>Частники</td>\n",
       "      <td>1 поколение</td>\n",
       "      <td>2013</td>\n",
       "      <td>Красный</td>\n",
       "      <td>Седан</td>\n",
       "      <td>Механика</td>\n",
       "      <td>Левый</td>\n",
       "      <td>Не битый</td>\n",
       "      <td>Нет</td>\n",
       "      <td>4.0</td>\n",
       "      <td>59000.0</td>\n",
       "      <td>1.0</td>\n",
       "    </tr>\n",
       "    <tr>\n",
       "      <th>4</th>\n",
       "      <td>34d7824a60964435b93c68a5</td>\n",
       "      <td>Москва</td>\n",
       "      <td>1000000.0</td>\n",
       "      <td>Jeep</td>\n",
       "      <td>Commander</td>\n",
       "      <td>Полный</td>\n",
       "      <td>3 л / 218 л.с. / Дизельный</td>\n",
       "      <td>Частники</td>\n",
       "      <td>1 поколение</td>\n",
       "      <td>2008</td>\n",
       "      <td>Черный</td>\n",
       "      <td>Внедорожник</td>\n",
       "      <td>Автомат</td>\n",
       "      <td>Левый</td>\n",
       "      <td>Не битый</td>\n",
       "      <td>Нет</td>\n",
       "      <td>5.0</td>\n",
       "      <td>200000.0</td>\n",
       "      <td>2.0</td>\n",
       "    </tr>\n",
       "  </tbody>\n",
       "</table>\n",
       "</div>"
      ],
      "text/plain": [
       "                         id            city      price       brand      model  \\\n",
       "0  9cbd65bfd61bc7405d6866a5         Советск    40000.0  ВАЗ (Lada)       2105   \n",
       "1  5d6fa4d552284029123966a5          Москва   105000.0  ВАЗ (Lada)       2114   \n",
       "2  52fd95e853654e3c4d7966a5     Александров   650000.0    Cadillac        SRX   \n",
       "3  beb7c749571bc740820038a5  Новокуйбышевск   400000.0   Chevrolet    Lacetti   \n",
       "4  34d7824a60964435b93c68a5          Москва  1000000.0        Jeep  Commander   \n",
       "\n",
       "  drive_type                 engine_summary owner_type   generation  year  \\\n",
       "0     Задний   1.5 л / 71 л.с. / Бензиновый   Частники  1 поколение  1999   \n",
       "1   Передний   1.5 л / 77 л.с. / Бензиновый   Частники  1 поколение  2006   \n",
       "2     Полный  3.6 л / 258 л.с. / Бензиновый   Частники  1 поколение  2008   \n",
       "3   Передний  1.6 л / 109 л.с. / Бензиновый   Частники  1 поколение  2013   \n",
       "4     Полный     3 л / 218 л.с. / Дизельный   Частники  1 поколение  2008   \n",
       "\n",
       "        color         body gear_type wheel_type     state is_new  doors_count  \\\n",
       "0  Фиолетовый        Седан  Механика      Левый   Хорошее    Нет          5.0   \n",
       "1     Голубой      Хетчбэк  Механика      Левый   Хорошее    Нет          5.0   \n",
       "2       Синий    Кроссовер   Автомат      Левый  Не битый    Нет          5.0   \n",
       "3     Красный        Седан  Механика      Левый  Не битый    Нет          4.0   \n",
       "4      Черный  Внедорожник   Автомат      Левый  Не битый    Нет          5.0   \n",
       "\n",
       "    mileage  owners_by_pts  \n",
       "0  178000.0            3.0  \n",
       "1  200000.0            2.0  \n",
       "2  185000.0            3.0  \n",
       "3   59000.0            1.0  \n",
       "4  200000.0            2.0  "
      ]
     },
     "execution_count": 3,
     "metadata": {},
     "output_type": "execute_result"
    }
   ],
   "source": [
    "df_train.head()"
   ]
  },
  {
   "cell_type": "code",
   "execution_count": 4,
   "metadata": {},
   "outputs": [
    {
     "data": {
      "text/plain": [
       "(89959, 19)"
      ]
     },
     "execution_count": 4,
     "metadata": {},
     "output_type": "execute_result"
    }
   ],
   "source": [
    "df_train.shape"
   ]
  },
  {
   "cell_type": "code",
   "execution_count": 5,
   "metadata": {},
   "outputs": [
    {
     "data": {
      "text/plain": [
       "(0, 10000000)"
      ]
     },
     "execution_count": 5,
     "metadata": {},
     "output_type": "execute_result"
    },
    {
     "data": {
      "image/png": "[encoded data removed]",
      "text/plain": [
       "<Figure size 432x288 with 1 Axes>"
      ]
     },
     "metadata": {
      "needs_background": "light"
     },
     "output_type": "display_data"
    }
   ],
   "source": [
    "plt.boxplot(df_train.price)\n",
    "plt.ylim(0,10**7)"
   ]
  },
  {
   "cell_type": "code",
   "execution_count": 6,
   "metadata": {},
   "outputs": [
    {
     "data": {
      "text/plain": [
       "{'whiskers': [<matplotlib.lines.Line2D at 0x7f885a28ba90>,\n",
       "  <matplotlib.lines.Line2D at 0x7f885a244e90>],\n",
       " 'caps': [<matplotlib.lines.Line2D at 0x7f885a24e250>,\n",
       "  <matplotlib.lines.Line2D at 0x7f885a24efd0>],\n",
       " 'boxes': [<matplotlib.lines.Line2D at 0x7f885a244c50>],\n",
       " 'medians': [<matplotlib.lines.Line2D at 0x7f885a252910>],\n",
       " 'fliers': [<matplotlib.lines.Line2D at 0x7f885a252650>],\n",
       " 'means': []}"
      ]
     },
     "execution_count": 6,
     "metadata": {},
     "output_type": "execute_result"
    },
    {
     "data": {
      "image/png": "[encoded data removed]",
      "text/plain": [
       "<Figure size 432x288 with 1 Axes>"
      ]
     },
     "metadata": {
      "needs_background": "light"
     },
     "output_type": "display_data"
    }
   ],
   "source": [
    "plt.boxplot(df_train.price.apply(np.log))\n",
    "# maybe using log transformation of target is good idea"
   ]
  },
  {
   "cell_type": "code",
   "execution_count": 7,
   "metadata": {},
   "outputs": [
    {
     "ename": "ModuleNotFoundError",
     "evalue": "No module named 'sklearn.compose'",
     "output_type": "error",
     "traceback": [
      "\u001b[0;31m---------------------------------------------------------------------------\u001b[0m",
      "\u001b[0;31mModuleNotFoundError\u001b[0m                       Traceback (most recent call last)",
      "\u001b[0;32m<ipython-input-7-7b0aa54d7434>\u001b[0m in \u001b[0;36m<module>\u001b[0;34m\u001b[0m\n\u001b[1;32m      3\u001b[0m \u001b[0;32mfrom\u001b[0m \u001b[0msklearn\u001b[0m\u001b[0;34m.\u001b[0m\u001b[0mpreprocessing\u001b[0m \u001b[0;32mimport\u001b[0m \u001b[0mOneHotEncoder\u001b[0m\u001b[0;34m\u001b[0m\u001b[0;34m\u001b[0m\u001b[0m\n\u001b[1;32m      4\u001b[0m \u001b[0;32mfrom\u001b[0m \u001b[0msklearn\u001b[0m\u001b[0;34m.\u001b[0m\u001b[0mpipeline\u001b[0m \u001b[0;32mimport\u001b[0m \u001b[0mPipeline\u001b[0m\u001b[0;34m\u001b[0m\u001b[0;34m\u001b[0m\u001b[0m\n\u001b[0;32m----> 5\u001b[0;31m \u001b[0;32mfrom\u001b[0m \u001b[0msklearn\u001b[0m\u001b[0;34m.\u001b[0m\u001b[0mcompose\u001b[0m \u001b[0;32mimport\u001b[0m \u001b[0mColumnTransformer\u001b[0m\u001b[0;34m\u001b[0m\u001b[0;34m\u001b[0m\u001b[0m\n\u001b[0m\u001b[1;32m      6\u001b[0m \u001b[0;32mfrom\u001b[0m \u001b[0msklearn\u001b[0m\u001b[0;34m.\u001b[0m\u001b[0mimpute\u001b[0m \u001b[0;32mimport\u001b[0m \u001b[0mSimpleImputer\u001b[0m\u001b[0;34m\u001b[0m\u001b[0;34m\u001b[0m\u001b[0m\n\u001b[1;32m      7\u001b[0m \u001b[0;32mfrom\u001b[0m \u001b[0msklearn\u001b[0m\u001b[0;34m.\u001b[0m\u001b[0mmodel_selection\u001b[0m \u001b[0;32mimport\u001b[0m \u001b[0mRandomizedSearchCV\u001b[0m\u001b[0;34m,\u001b[0m \u001b[0mKFold\u001b[0m\u001b[0;34m\u001b[0m\u001b[0;34m\u001b[0m\u001b[0m\n",
      "\u001b[0;31mModuleNotFoundError\u001b[0m: No module named 'sklearn.compose'"
     ]
    }
   ],
   "source": [
    "from sklearn.linear_model import LinearRegression, Ridge\n",
    "from sklearn.preprocessing import StandardScaler\n",
    "from sklearn.preprocessing import OneHotEncoder\n",
    "from sklearn.pipeline import Pipeline\n",
    "from sklearn.compose import ColumnTransformer\n",
    "from sklearn.impute import SimpleImputer\n",
    "from sklearn.model_selection import RandomizedSearchCV, KFold"
   ]
  },
  {
   "cell_type": "code",
   "execution_count": null,
   "metadata": {},
   "outputs": [],
   "source": [
    "X_train = df_train.loc[:, ['mileage', 'brand']].values\n",
    "y_train = df_train.loc[:, 'price'].values\n",
    "\n",
    "X_test = df_test.loc[:, ['mileage', 'brand']].values"
   ]
  },
  {
   "cell_type": "code",
   "execution_count": 10,
   "metadata": {},
   "outputs": [],
   "source": [
    "categ = [1] # categorical feauture index\n",
    "categ_preprocess = \\\n",
    "Pipeline([\n",
    "    ('impute', SimpleImputer(strategy='most_frequent')),\n",
    "    ('ohe', OneHotEncoder(handle_unknown='ignore'))    \n",
    "])\n",
    "# firstly - impute missing values\n",
    "# One hot encodding afterwards\n",
    "\n",
    "numeric = [0] # numeric feauture index\n",
    "numeric_preprocess = \\\n",
    "Pipeline([\n",
    "    ('impute', SimpleImputer(strategy='median')),\n",
    "    ('scaler', StandardScaler())\n",
    "])\n",
    "# firstly - impute missing values\n",
    "# standart scaling afterwards\n",
    "\n",
    "col_transformer = ColumnTransformer([\n",
    "    ('categorical', categ_preprocess, categ),\n",
    "    ('numeric', numeric_preprocess, numeric),\n",
    "])\n",
    "# combine transformations"
   ]
  },
  {
   "cell_type": "code",
   "execution_count": 11,
   "metadata": {},
   "outputs": [],
   "source": [
    "model = \\\n",
    "Pipeline([\n",
    "    ('preprocess', col_transformer),\n",
    "    ('model', Ridge())\n",
    "])\n",
    "# pipeline with preprocessing and models"
   ]
  },
  {
   "cell_type": "code",
   "execution_count": 12,
   "metadata": {},
   "outputs": [],
   "source": [
    "# setting parameter grid for hypersearch\n",
    "param_grid = \\\n",
    "{'model__alpha': np.logspace(-3, 3, 100),\n",
    " 'preprocess__numeric__impute__strategy': ['mean', 'median']}\n",
    "\n",
    "# setting cv scheme\n",
    "cv = KFold(n_splits=5, shuffle=True, random_state=123)\n",
    "\n",
    "# setting hyperparameter search\n",
    "searcher = \\\n",
    "RandomizedSearchCV(model, param_grid, n_iter=20, cv=cv, \n",
    "                   scoring='neg_mean_squared_error',\n",
    "                   n_jobs=5, refit=True, verbose=2, \n",
    "                   random_state=123)"
   ]
  },
  {
   "cell_type": "code",
   "execution_count": 13,
   "metadata": {},
   "outputs": [
    {
     "name": "stdout",
     "output_type": "stream",
     "text": [
      "Fitting 5 folds for each of 20 candidates, totalling 100 fits\n"
     ]
    },
    {
     "name": "stderr",
     "output_type": "stream",
     "text": [
      "[Parallel(n_jobs=5)]: Using backend LokyBackend with 5 concurrent workers.\n",
      "[Parallel(n_jobs=5)]: Done  31 tasks      | elapsed:   22.2s\n",
      "[Parallel(n_jobs=5)]: Done 100 out of 100 | elapsed:  1.2min finished\n"
     ]
    },
    {
     "data": {
      "text/plain": [
       "RandomizedSearchCV(cv=KFold(n_splits=5, random_state=123, shuffle=True),\n",
       "                   error_score=nan,\n",
       "                   estimator=Pipeline(memory=None,\n",
       "                                      steps=[('preprocess',\n",
       "                                              ColumnTransformer(n_jobs=None,\n",
       "                                                                remainder='drop',\n",
       "                                                                sparse_threshold=0.3,\n",
       "                                                                transformer_weights=None,\n",
       "                                                                transformers=[('categorical',\n",
       "                                                                               Pipeline(memory=None,\n",
       "                                                                                        steps=[('impute',\n",
       "                                                                                                SimpleImputer(add_indicator=False,\n",
       "                                                                                                              copy=True,\n",
       "                                                                                                              fill_val...\n",
       "       2.15443469e+02, 2.47707636e+02, 2.84803587e+02, 3.27454916e+02,\n",
       "       3.76493581e+02, 4.32876128e+02, 4.97702356e+02, 5.72236766e+02,\n",
       "       6.57933225e+02, 7.56463328e+02, 8.69749003e+02, 1.00000000e+03]),\n",
       "                                        'preprocess__numeric__impute__strategy': ['mean',\n",
       "                                                                                  'median']},\n",
       "                   pre_dispatch='2*n_jobs', random_state=123, refit=True,\n",
       "                   return_train_score=False, scoring='neg_mean_squared_error',\n",
       "                   verbose=2)"
      ]
     },
     "execution_count": 13,
     "metadata": {},
     "output_type": "execute_result"
    }
   ],
   "source": [
    "searcher.fit(X_train, np.log(y_train+1))"
   ]
  },
  {
   "cell_type": "code",
   "execution_count": 14,
   "metadata": {},
   "outputs": [],
   "source": [
    "best_model = searcher.best_estimator_"
   ]
  },
  {
   "cell_type": "code",
   "execution_count": 15,
   "metadata": {},
   "outputs": [
    {
     "data": {
      "text/plain": [
       "{'preprocess__numeric__impute__strategy': 'median',\n",
       " 'model__alpha': 0.012328467394420659}"
      ]
     },
     "execution_count": 15,
     "metadata": {},
     "output_type": "execute_result"
    }
   ],
   "source": [
    "searcher.best_params_"
   ]
  },
  {
   "cell_type": "code",
   "execution_count": 16,
   "metadata": {},
   "outputs": [],
   "source": [
    "y_hat = \\\n",
    "np.exp(best_model.predict(X_test))-1"
   ]
  },
  {
   "cell_type": "code",
   "execution_count": 17,
   "metadata": {},
   "outputs": [],
   "source": [
    "submission = df_test.loc[:, ['id']]\n",
    "submission.loc[:, 'price'] = y_hat"
   ]
  },
  {
   "cell_type": "code",
   "execution_count": 18,
   "metadata": {},
   "outputs": [
    {
     "data": {
      "text/html": [
       "<div>\n",
       "<style scoped>\n",
       "    .dataframe tbody tr th:only-of-type {\n",
       "        vertical-align: middle;\n",
       "    }\n",
       "\n",
       "    .dataframe tbody tr th {\n",
       "        vertical-align: top;\n",
       "    }\n",
       "\n",
       "    .dataframe thead th {\n",
       "        text-align: right;\n",
       "    }\n",
       "</style>\n",
       "<table border=\"1\" class=\"dataframe\">\n",
       "  <thead>\n",
       "    <tr style=\"text-align: right;\">\n",
       "      <th></th>\n",
       "      <th>id</th>\n",
       "      <th>price</th>\n",
       "    </tr>\n",
       "  </thead>\n",
       "  <tbody>\n",
       "    <tr>\n",
       "      <th>0</th>\n",
       "      <td>0342021095ab56065059d7a5</td>\n",
       "      <td>3.292662e+05</td>\n",
       "    </tr>\n",
       "    <tr>\n",
       "      <th>1</th>\n",
       "      <td>39ab2742629644350ccf79a5</td>\n",
       "      <td>3.399239e+05</td>\n",
       "    </tr>\n",
       "    <tr>\n",
       "      <th>2</th>\n",
       "      <td>3ec951329128402965155ba5</td>\n",
       "      <td>5.660242e+05</td>\n",
       "    </tr>\n",
       "    <tr>\n",
       "      <th>3</th>\n",
       "      <td>bc0847b8951bc74079b8bca5</td>\n",
       "      <td>1.011003e+05</td>\n",
       "    </tr>\n",
       "    <tr>\n",
       "      <th>4</th>\n",
       "      <td>258f0335b5654e3c500b3da5</td>\n",
       "      <td>3.663789e+05</td>\n",
       "    </tr>\n",
       "    <tr>\n",
       "      <th>...</th>\n",
       "      <td>...</td>\n",
       "      <td>...</td>\n",
       "    </tr>\n",
       "    <tr>\n",
       "      <th>22566</th>\n",
       "      <td>3f0e70c941ab560654ec0fd5</td>\n",
       "      <td>5.078542e+05</td>\n",
       "    </tr>\n",
       "    <tr>\n",
       "      <th>22567</th>\n",
       "      <td>3c98859f351bc7409bfb1fd5</td>\n",
       "      <td>1.282996e+06</td>\n",
       "    </tr>\n",
       "    <tr>\n",
       "      <th>22568</th>\n",
       "      <td>3a8a02a0708bf57580a12fd5</td>\n",
       "      <td>4.963187e+05</td>\n",
       "    </tr>\n",
       "    <tr>\n",
       "      <th>22569</th>\n",
       "      <td>351a63d1684cb686e3382fd5</td>\n",
       "      <td>1.242821e+05</td>\n",
       "    </tr>\n",
       "    <tr>\n",
       "      <th>22570</th>\n",
       "      <td>196645d640f2e08adbbb4fd5</td>\n",
       "      <td>7.109514e+05</td>\n",
       "    </tr>\n",
       "  </tbody>\n",
       "</table>\n",
       "<p>22571 rows × 2 columns</p>\n",
       "</div>"
      ],
      "text/plain": [
       "                             id         price\n",
       "0      0342021095ab56065059d7a5  3.292662e+05\n",
       "1      39ab2742629644350ccf79a5  3.399239e+05\n",
       "2      3ec951329128402965155ba5  5.660242e+05\n",
       "3      bc0847b8951bc74079b8bca5  1.011003e+05\n",
       "4      258f0335b5654e3c500b3da5  3.663789e+05\n",
       "...                         ...           ...\n",
       "22566  3f0e70c941ab560654ec0fd5  5.078542e+05\n",
       "22567  3c98859f351bc7409bfb1fd5  1.282996e+06\n",
       "22568  3a8a02a0708bf57580a12fd5  4.963187e+05\n",
       "22569  351a63d1684cb686e3382fd5  1.242821e+05\n",
       "22570  196645d640f2e08adbbb4fd5  7.109514e+05\n",
       "\n",
       "[22571 rows x 2 columns]"
      ]
     },
     "execution_count": 18,
     "metadata": {},
     "output_type": "execute_result"
    }
   ],
   "source": [
    "submission"
   ]
  },
  {
   "cell_type": "code",
   "execution_count": 19,
   "metadata": {},
   "outputs": [],
   "source": [
    "submission.to_csv('baseline.csv', index=None)"
   ]
  }
 ],
 "metadata": {
  "kernelspec": {
   "display_name": "Python 3",
   "language": "python",
   "name": "python3"
  },
  "language_info": {
   "codemirror_mode": {
    "name": "ipython",
    "version": 3
   },
   "file_extension": ".py",
   "mimetype": "text/x-python",
   "name": "python",
   "nbconvert_exporter": "python",
   "pygments_lexer": "ipython3",
   "version": "3.7.5"
  },
  "toc": {
   "base_numbering": 1,
   "nav_menu": {},
   "number_sections": false,
   "sideBar": true,
   "skip_h1_title": false,
   "title_cell": "Table of Contents",
   "title_sidebar": "Contents",
   "toc_cell": false,
   "toc_position": {
    "height": "calc(100% - 180px)",
    "left": "10px",
    "top": "150px",
    "width": "289.8px"
   },
   "toc_section_display": true,
   "toc_window_display": true
  }
 },
 "nbformat": 4,
 "nbformat_minor": 4
}
